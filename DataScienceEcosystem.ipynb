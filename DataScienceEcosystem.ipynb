{
 "cells": [
  {
   "cell_type": "markdown",
   "id": "3b48cdd4",
   "metadata": {},
   "source": [
    "# Data Science Tools and Ecosystem."
   ]
  },
  {
   "cell_type": "markdown",
   "id": "11546270",
   "metadata": {},
   "source": [
    "## In this notebook, Data Science Tools and Ecosystem are summarized.\n"
   ]
  },
  {
   "cell_type": "markdown",
   "id": "bd724915",
   "metadata": {},
   "source": [
    "**Objectives:**\n",
    "* List of populer languages for Data Science.\n",
    "* Commonly used libraries for data science.\n",
    "* Expressing Arithmetic terms."
   ]
  },
  {
   "cell_type": "markdown",
   "id": "cbba3f63",
   "metadata": {},
   "source": [
    "### Some of the popular languages that Data Scientists use are:\n",
    "1. Python\n",
    "2. R\n",
    "3. Java"
   ]
  },
  {
   "cell_type": "markdown",
   "id": "e535672c",
   "metadata": {},
   "source": [
    "### Some of the commonly used libraries used by Data Scientists include:\n",
    "1. Pandas\n",
    "2. Matplotlib\n",
    "3. Sckitlearn"
   ]
  },
  {
   "cell_type": "markdown",
   "id": "693f0e5f",
   "metadata": {},
   "source": [
    "|Data Science Tools.|\n",
    "|-------------------|\n",
    "|Jupyter|\n",
    "|Watson Studio|\n",
    "|Apache Spark|\n"
   ]
  },
  {
   "cell_type": "markdown",
   "id": "f5dc4bc0",
   "metadata": {},
   "source": [
    "### Below are a few examples of evaluating arithmetic expressions in Python.\n"
   ]
  },
  {
   "cell_type": "code",
   "execution_count": 6,
   "id": "6d426cbf",
   "metadata": {},
   "outputs": [
    {
     "data": {
      "text/plain": [
       "17"
      ]
     },
     "execution_count": 6,
     "metadata": {},
     "output_type": "execute_result"
    }
   ],
   "source": [
    "(3*4)+5"
   ]
  },
  {
   "cell_type": "code",
   "execution_count": 8,
   "id": "17a380bf",
   "metadata": {},
   "outputs": [
    {
     "name": "stdout",
     "output_type": "stream",
     "text": [
      "3.3333333333333335 hrs.\n"
     ]
    }
   ],
   "source": [
    "minutes = 200\n",
    "# This will convert 200 minutes to hours by diving by 60\n",
    "hours = minutes/60\n",
    "print(f\"{hours} hrs.\")"
   ]
  },
  {
   "cell_type": "markdown",
   "id": "17d406b3",
   "metadata": {},
   "source": [
    "## Author\n",
    "Parth"
   ]
  }
 ],
 "metadata": {
  "kernelspec": {
   "display_name": "Python 3 (ipykernel)",
   "language": "python",
   "name": "python3"
  },
  "language_info": {
   "codemirror_mode": {
    "name": "ipython",
    "version": 3
   },
   "file_extension": ".py",
   "mimetype": "text/x-python",
   "name": "python",
   "nbconvert_exporter": "python",
   "pygments_lexer": "ipython3",
   "version": "3.11.2"
  }
 },
 "nbformat": 4,
 "nbformat_minor": 5
}
